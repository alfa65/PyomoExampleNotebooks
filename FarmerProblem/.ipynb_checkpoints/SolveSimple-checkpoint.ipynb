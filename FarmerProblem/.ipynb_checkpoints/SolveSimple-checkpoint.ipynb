{
 "cells": [
  {
   "cell_type": "markdown",
   "metadata": {},
   "source": [
    "# 1) Install pyomo\n",
    "If you haven't done it yet, you should install pyomo in your environment.\n",
    "> If you are running this notebook on Google Colab you MUST install pyomo as soon as you open the notebook "
   ]
  },
  {
   "cell_type": "code",
   "execution_count": null,
   "metadata": {},
   "outputs": [],
   "source": [
    "!pip install -q pyomo"
   ]
  },
  {
   "cell_type": "markdown",
   "metadata": {},
   "source": [
    "# 2) Install 'glpk'\n",
    "\n",
    "GLPK uses the revised simplex method and the primal-dual interior point method for non-integer problems and the branch-and-bound algorithm together with Gomory's mixed integer cuts for (mixed) integer problems. \n",
    "\n",
    "> Only install it inside Google Collab"
   ]
  },
  {
   "cell_type": "code",
   "execution_count": null,
   "metadata": {},
   "outputs": [],
   "source": [
    "!apt-get install -y -qq glpk-utils"
   ]
  },
  {
   "cell_type": "code",
   "execution_count": 1,
   "metadata": {},
   "outputs": [],
   "source": [
    "from pyomo.environ import *\n",
    "from pyomo.opt import SolverFactory\n",
    "from pyomo.opt import SolverStatus, TerminationCondition\n",
    "import os, sys\n",
    "from optmodel_utilities import *\n",
    "\n",
    "#Change here 1/3\n",
    "from FarmerModel import *"
   ]
  },
  {
   "cell_type": "code",
   "execution_count": 8,
   "metadata": {},
   "outputs": [],
   "source": [
    "# main function to solve a model\n",
    "def main(onfile):\n",
    "\n",
    "\n",
    "    #Change here 2/3\n",
    "    model = FarmerModel()\n",
    "\n",
    "    #Change here 3/3\n",
    "    instance = model.create_instance('farmer.dat')\n",
    "\n",
    "    # chosing the solver\n",
    "    optsolver =  SolverFactory('glpk', executable='/usr/bin/glpsol')\n",
    "    \n",
    "    #solving the problem\n",
    "    results = optsolver.solve(instance)\n",
    "    \n",
    "\n",
    "\n",
    "    #checking the results\n",
    "    if (results.solver.status == SolverStatus.ok) and (results.solver.termination_condition == TerminationCondition.optimal):\n",
    "\n",
    "        objective =  getObjectiveValue(instance)\n",
    "        print(\"Optimal solution found with value \", objective)\n",
    "\n",
    "        if onfile == False:\n",
    "            printPointFromModel(instance)\n",
    "        else:\n",
    "            #save results on file\n",
    "            filename = open(\"results.txt\",'w')\n",
    "            printObjectiveValue(instance, filename)\n",
    "            printPointFromModel(instance, filename)\n",
    "            filename.close()\n",
    "    \n",
    "    else:\n",
    "        print(\"Some problem occurred. Solver terminated with condition \", results.solver.termination_condition)\n"
   ]
  },
  {
   "cell_type": "code",
   "execution_count": 9,
   "metadata": {},
   "outputs": [
    {
     "name": "stdout",
     "output_type": "stream",
     "text": [
      "Optimal solution found with value  44.0\n",
      "x [ Tomatoes ] =  8.0\n",
      "x [ Potatoes ] =  4.0\n"
     ]
    }
   ],
   "source": [
    "main(False)"
   ]
  },
  {
   "cell_type": "markdown",
   "metadata": {},
   "source": []
  },
  {
   "cell_type": "code",
   "execution_count": null,
   "metadata": {
    "scrolled": true
   },
   "outputs": [],
   "source": []
  },
  {
   "cell_type": "code",
   "execution_count": null,
   "metadata": {},
   "outputs": [],
   "source": []
  },
  {
   "cell_type": "code",
   "execution_count": null,
   "metadata": {},
   "outputs": [],
   "source": []
  }
 ],
 "metadata": {
  "kernelspec": {
   "display_name": "Python 3",
   "language": "python",
   "name": "python3"
  },
  "language_info": {
   "codemirror_mode": {
    "name": "ipython",
    "version": 3
   },
   "file_extension": ".py",
   "mimetype": "text/x-python",
   "name": "python",
   "nbconvert_exporter": "python",
   "pygments_lexer": "ipython3",
   "version": "3.7.4"
  }
 },
 "nbformat": 4,
 "nbformat_minor": 2
}
