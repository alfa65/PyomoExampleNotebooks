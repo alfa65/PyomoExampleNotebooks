{
 "cells": [
  {
   "cell_type": "code",
   "execution_count": 4,
   "metadata": {},
   "outputs": [
    {
     "ename": "SyntaxError",
     "evalue": "invalid syntax (<ipython-input-4-062eff0deefc>, line 5)",
     "output_type": "error",
     "traceback": [
      "\u001b[0;36m  File \u001b[0;32m\"<ipython-input-4-062eff0deefc>\"\u001b[0;36m, line \u001b[0;32m5\u001b[0m\n\u001b[0;31m    sys.path.insert(0,os.path.('../utilities'))\u001b[0m\n\u001b[0m                              ^\u001b[0m\n\u001b[0;31mSyntaxError\u001b[0m\u001b[0;31m:\u001b[0m invalid syntax\n"
     ]
    }
   ],
   "source": [
    "from pyomo.environ import *\n",
    "from pyomo.opt import SolverFactory\n",
    "from pyomo.opt import SolverStatus, TerminationCondition\n",
    "import os, sys\n",
    "from optmodel_utilities import *\n",
    "\n",
    "#Change here 1/3\n",
    "from MaxFlow import *\n",
    "\n",
    "\n",
    "# main function to solve a model\n",
    "def main(onfile):\n",
    "    # chosing the solver\n",
    "    solver_name = 'cplex'\n",
    "    solver_path = get_solver_path(solver_name)\n",
    "\n",
    "    optsolver =  SolverFactory(solver_name, executable=str(solver_path), solver_io = 'nl')\n",
    "\n",
    "    #Change here 2/3\n",
    "    model = MaxFlow()\n",
    "\n",
    "    #Change here 3/3\n",
    "    instance = model.create_instance('MaxFlow.dat')\n",
    "\n",
    "    #solving the problem\n",
    "    results = optsolver.solve(instance)\n",
    "\n",
    "    #checking the results\n",
    "    if (results.solver.status == SolverStatus.ok) and (results.solver.termination_condition == TerminationCondition.optimal):\n",
    "\n",
    "        objective =  getObjectiveValue(instance)\n",
    "        print(\"Optimal solution found with value \", objective)\n",
    "\n",
    "        if onfile == False:\n",
    "            printPointFromModel(instance)\n",
    "        else:\n",
    "            #save results on file\n",
    "            filename = open(\"results.txt\",'w')\n",
    "            printObjectiveValue(instance, filename)\n",
    "            printPointFromModel(instance, filename)\n",
    "            filename.close()\n",
    "    \n",
    "    else:\n",
    "        print(\"Some problem occurred. Solver terminated with condition \", results.solver.termination_condition)\n",
    "        \n",
    "\n",
    "\n"
   ]
  },
  {
   "cell_type": "code",
   "execution_count": null,
   "metadata": {},
   "outputs": [],
   "source": []
  }
 ],
 "metadata": {
  "kernelspec": {
   "display_name": "Python 3",
   "language": "python",
   "name": "python3"
  },
  "language_info": {
   "codemirror_mode": {
    "name": "ipython",
    "version": 3
   },
   "file_extension": ".py",
   "mimetype": "text/x-python",
   "name": "python",
   "nbconvert_exporter": "python",
   "pygments_lexer": "ipython3",
   "version": "3.7.4"
  }
 },
 "nbformat": 4,
 "nbformat_minor": 2
}
